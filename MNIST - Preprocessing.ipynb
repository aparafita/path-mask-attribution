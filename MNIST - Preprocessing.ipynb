{
 "cells": [
  {
   "cell_type": "code",
   "execution_count": 1,
   "metadata": {},
   "outputs": [],
   "source": [
    "import os\n",
    "import os.path\n",
    "\n",
    "from collections import OrderedDict\n",
    "\n",
    "import torch\n",
    "from torch import nn, optim\n",
    "\n",
    "import numpy as np\n",
    "\n",
    "from torch.utils.data import Dataset, DataLoader, sampler\n",
    "from torchvision import datasets\n",
    "from skimage import io\n",
    "\n",
    "import pickle\n",
    "\n",
    "from utils import *"
   ]
  },
  {
   "cell_type": "code",
   "execution_count": 2,
   "metadata": {},
   "outputs": [],
   "source": [
    "class MNIST(Dataset):\n",
    "    \n",
    "    img_shape = (1, 28, 28)\n",
    "    classes = list(map(str, range(10)))\n",
    "    \n",
    "    def __init__(self, folder, batch_size=32, num_workers=0, val_size=.2, seed=123):\n",
    "        self.folder = folder\n",
    "        \n",
    "        train = datasets.MNIST(folder, train=True, download=True)\n",
    "        test = datasets.MNIST(folder, train=False, download=True)\n",
    "        \n",
    "        data = torch.cat([\n",
    "            train.train_data.unsqueeze(1).float() / 255.,\n",
    "            test.test_data.unsqueeze(1).float() / 255.,\n",
    "        ])\n",
    "        \n",
    "        labels = torch.cat([\n",
    "            train.train_labels, test.test_labels\n",
    "        ]).numpy()\n",
    "        \n",
    "        train_val_size = len(train)\n",
    "        test_size = len(data) - train_val_size\n",
    "        \n",
    "        self.seed = seed\n",
    "        rs = np.random.RandomState(seed)\n",
    "        train_val = np.arange(train_val_size)\n",
    "        rs.shuffle(train_val)\n",
    "        \n",
    "        test = np.arange(train_val_size, len(data))\n",
    "        \n",
    "        dataset_size = len(data)\n",
    "        idx = np.arange(dataset_size)\n",
    "\n",
    "        train_val_size = len(train_val)\n",
    "\n",
    "        train_size = int(round(train_val_size * (1 - val_size)))\n",
    "        val_size = train_val_size - train_size\n",
    "        train, val = train_val[:train_size], train_val[train_size:]\n",
    "\n",
    "        train_sampler = sampler.SubsetRandomSampler(train)\n",
    "        val_sampler = sampler.SubsetRandomSampler(val)\n",
    "        train_val_sampler = sampler.SubsetRandomSampler(train_val)\n",
    "        test_sampler = sampler.SubsetRandomSampler(test)\n",
    "\n",
    "        train_loader = DataLoader(self, batch_size=batch_size, num_workers=num_workers, sampler=train_sampler)\n",
    "        val_loader = DataLoader(self, batch_size=batch_size, num_workers=num_workers, sampler=val_sampler)\n",
    "        train_val_loader = DataLoader(self, batch_size=batch_size, num_workers=num_workers, sampler=train_val_sampler)\n",
    "        test_loader = DataLoader(self, batch_size=batch_size, num_workers=num_workers, sampler=test_sampler)\n",
    "\n",
    "        num_classes = len(self.classes)\n",
    "        \n",
    "        for k, v in locals().items():\n",
    "            setattr(self, k, v)\n",
    "        \n",
    "    def __len__(self):\n",
    "        return self.dataset_size\n",
    "    \n",
    "    def __getitem__(self, idx):\n",
    "        X = self.data[idx]\n",
    "        y = self.labels[idx]\n",
    "        cls = self.classes[y]\n",
    "        \n",
    "        return X, y, cls"
   ]
  },
  {
   "cell_type": "code",
   "execution_count": 3,
   "metadata": {},
   "outputs": [],
   "source": [
    "dataset = MNIST(os.path.join('data', 'MNIST'))"
   ]
  },
  {
   "cell_type": "code",
   "execution_count": 4,
   "metadata": {},
   "outputs": [
    {
     "data": {
      "image/png": "[encoded data removed]",
      "text/plain": [
       "<matplotlib.figure.Figure at 0x7f1e8405e860>"
      ]
     },
     "metadata": {},
     "output_type": "display_data"
    }
   ],
   "source": [
    "axes = subplots(2, 5).flatten()\n",
    "\n",
    "for ax in axes:\n",
    "    idx = np.random.choice(dataset.train_size)\n",
    "    im, _, label = dataset[dataset.train[idx]]\n",
    "    imshow(im, ax, title=label)"
   ]
  }
 ],
 "metadata": {
  "kernelspec": {
   "display_name": "Python 3",
   "language": "python",
   "name": "python3"
  },
  "language_info": {
   "codemirror_mode": {
    "name": "ipython",
    "version": 3
   },
   "file_extension": ".py",
   "mimetype": "text/x-python",
   "name": "python",
   "nbconvert_exporter": "python",
   "pygments_lexer": "ipython3",
   "version": "3.6.4"
  }
 },
 "nbformat": 4,
 "nbformat_minor": 2
}
